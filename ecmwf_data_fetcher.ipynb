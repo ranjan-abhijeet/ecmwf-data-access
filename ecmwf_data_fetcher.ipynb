{
 "cells": [
  {
   "cell_type": "code",
   "execution_count": 30,
   "id": "7a8f7a63-aa0f-4e9a-ac33-d321c3bae07c",
   "metadata": {},
   "outputs": [
    {
     "name": "stderr",
     "output_type": "stream",
     "text": [
      "2022-08-03 20:48:21,055 INFO Welcome to the CDS\n",
      "2022-08-03 20:48:21,057 INFO Sending request to https://ads.atmosphere.copernicus.eu/api/v2/resources/cams-global-atmospheric-composition-forecasts\n",
      "2022-08-03 20:48:21,262 INFO Request is queued\n",
      "2022-08-03 20:48:22,464 INFO Request is running\n",
      "2022-08-03 20:48:30,221 INFO Request is completed\n",
      "2022-08-03 20:48:30,222 INFO Downloading https://download-0002-ads-clone.copernicus-climate.eu/cache-compute-0002/cache/data2/adaptor.mars_constrained.internal-1659539906.8927653-31147-2-863922aa-7874-48e3-9dc3-ba24b5554e42.grib to download.grib (2.1M)\n",
      "2022-08-03 20:48:33,651 INFO Download rate 616.8K/s                                                                                                   \n"
     ]
    },
    {
     "data": {
      "text/plain": [
       "Result(content_length=2164932,content_type=application/x-grib,location=https://download-0002-ads-clone.copernicus-climate.eu/cache-compute-0002/cache/data2/adaptor.mars_constrained.internal-1659539906.8927653-31147-2-863922aa-7874-48e3-9dc3-ba24b5554e42.grib)"
      ]
     },
     "execution_count": 30,
     "metadata": {},
     "output_type": "execute_result"
    }
   ],
   "source": [
    "import cdsapi\n",
    "\n",
    "c = cdsapi.Client()\n",
    "\n",
    "c.retrieve(\n",
    "    'cams-global-atmospheric-composition-forecasts',\n",
    "    {\n",
    "        'date': '2022-08-03/2022-08-03',\n",
    "        'type': 'forecast',\n",
    "        'format': 'grib',\n",
    "        'variable': 'particulate_matter_10um',\n",
    "        'time': '00:00',\n",
    "        'leadtime_hour': [\n",
    "            '0', '1', '10',\n",
    "            '100', '101', '102',\n",
    "            '103', '104', '105',\n",
    "            '106', '107', '108',\n",
    "            '109', '11', '110',\n",
    "            '111', '112', '113',\n",
    "            '114', '115', '116',\n",
    "            '117', '118', '119',\n",
    "            '12', '120', '13',\n",
    "            '14', '15', '16',\n",
    "            '17', '18', '19',\n",
    "            '2', '20', '21',\n",
    "            '22', '23', '24',\n",
    "            '25', '26', '27',\n",
    "            '28', '29', '3',\n",
    "            '30', '31', '32',\n",
    "            '33', '34', '35',\n",
    "            '36', '37', '38',\n",
    "            '39', '4', '40',\n",
    "            '41', '42', '43',\n",
    "            '44', '45', '46',\n",
    "            '47', '48', '49',\n",
    "            '5', '50', '51',\n",
    "            '52', '53', '54',\n",
    "            '55', '56', '57',\n",
    "            '58', '59', '6',\n",
    "            '60', '61', '62',\n",
    "            '63', '64', '65',\n",
    "            '66', '67', '68',\n",
    "            '69', '7', '70',\n",
    "            '71', '72', '73',\n",
    "            '74', '75', '76',\n",
    "            '77', '78', '79',\n",
    "            '8', '80', '81',\n",
    "            '82', '83', '84',\n",
    "            '85', '86', '87',\n",
    "            '88', '89', '9',\n",
    "            '90', '91', '92',\n",
    "            '93', '94', '95',\n",
    "            '96', '97', '98',\n",
    "            '99',\n",
    "        ],\n",
    "        'area': [\n",
    "            38, 68, 7,\n",
    "            98,\n",
    "        ],\n",
    "    },\n",
    "    'download.grib')"
   ]
  },
  {
   "cell_type": "code",
   "execution_count": 31,
   "id": "6984e393-6ebf-4f48-8f26-51f48914b970",
   "metadata": {},
   "outputs": [],
   "source": [
    "ds = xr.open_dataset(f'download.grib')"
   ]
  },
  {
   "cell_type": "code",
   "execution_count": 33,
   "id": "992d54f9-8281-420e-871c-616640ae93d1",
   "metadata": {},
   "outputs": [],
   "source": [
    "df = ds.to_dataframe()\n",
    "\n",
    "# converts the dataframe to .csv\n",
    "df.to_csv(f'/home/abhijeet/Desktop/ecmwf_pm25.csv')"
   ]
  },
  {
   "cell_type": "code",
   "execution_count": 34,
   "id": "88d5bb19-6114-4c54-a066-6adf24711afa",
   "metadata": {},
   "outputs": [
    {
     "data": {
      "text/html": [
       "<div>\n",
       "<style scoped>\n",
       "    .dataframe tbody tr th:only-of-type {\n",
       "        vertical-align: middle;\n",
       "    }\n",
       "\n",
       "    .dataframe tbody tr th {\n",
       "        vertical-align: top;\n",
       "    }\n",
       "\n",
       "    .dataframe thead th {\n",
       "        text-align: right;\n",
       "    }\n",
       "</style>\n",
       "<table border=\"1\" class=\"dataframe\">\n",
       "  <thead>\n",
       "    <tr style=\"text-align: right;\">\n",
       "      <th></th>\n",
       "      <th></th>\n",
       "      <th></th>\n",
       "      <th>number</th>\n",
       "      <th>time</th>\n",
       "      <th>surface</th>\n",
       "      <th>valid_time</th>\n",
       "      <th>pm10</th>\n",
       "    </tr>\n",
       "    <tr>\n",
       "      <th>step</th>\n",
       "      <th>latitude</th>\n",
       "      <th>longitude</th>\n",
       "      <th></th>\n",
       "      <th></th>\n",
       "      <th></th>\n",
       "      <th></th>\n",
       "      <th></th>\n",
       "    </tr>\n",
       "  </thead>\n",
       "  <tbody>\n",
       "    <tr>\n",
       "      <th rowspan=\"5\" valign=\"top\">0 days</th>\n",
       "      <th rowspan=\"5\" valign=\"top\">37.8</th>\n",
       "      <th>68.0</th>\n",
       "      <td>0</td>\n",
       "      <td>2022-08-03</td>\n",
       "      <td>0.0</td>\n",
       "      <td>2022-08-03</td>\n",
       "      <td>9.620946e-09</td>\n",
       "    </tr>\n",
       "    <tr>\n",
       "      <th>68.4</th>\n",
       "      <td>0</td>\n",
       "      <td>2022-08-03</td>\n",
       "      <td>0.0</td>\n",
       "      <td>2022-08-03</td>\n",
       "      <td>7.547696e-09</td>\n",
       "    </tr>\n",
       "    <tr>\n",
       "      <th>68.8</th>\n",
       "      <td>0</td>\n",
       "      <td>2022-08-03</td>\n",
       "      <td>0.0</td>\n",
       "      <td>2022-08-03</td>\n",
       "      <td>1.051816e-08</td>\n",
       "    </tr>\n",
       "    <tr>\n",
       "      <th>69.2</th>\n",
       "      <td>0</td>\n",
       "      <td>2022-08-03</td>\n",
       "      <td>0.0</td>\n",
       "      <td>2022-08-03</td>\n",
       "      <td>7.681278e-09</td>\n",
       "    </tr>\n",
       "    <tr>\n",
       "      <th>69.6</th>\n",
       "      <td>0</td>\n",
       "      <td>2022-08-03</td>\n",
       "      <td>0.0</td>\n",
       "      <td>2022-08-03</td>\n",
       "      <td>7.836233e-09</td>\n",
       "    </tr>\n",
       "  </tbody>\n",
       "</table>\n",
       "</div>"
      ],
      "text/plain": [
       "                           number       time  surface valid_time          pm10\n",
       "step   latitude longitude                                                     \n",
       "0 days 37.8     68.0            0 2022-08-03      0.0 2022-08-03  9.620946e-09\n",
       "                68.4            0 2022-08-03      0.0 2022-08-03  7.547696e-09\n",
       "                68.8            0 2022-08-03      0.0 2022-08-03  1.051816e-08\n",
       "                69.2            0 2022-08-03      0.0 2022-08-03  7.681278e-09\n",
       "                69.6            0 2022-08-03      0.0 2022-08-03  7.836233e-09"
      ]
     },
     "execution_count": 34,
     "metadata": {},
     "output_type": "execute_result"
    }
   ],
   "source": [
    "df.head()"
   ]
  },
  {
   "cell_type": "code",
   "execution_count": null,
   "id": "df64cb34-1500-4861-aaf5-d0dc4dff3ffe",
   "metadata": {},
   "outputs": [],
   "source": []
  }
 ],
 "metadata": {
  "kernelspec": {
   "display_name": "Python 3 (ipykernel)",
   "language": "python",
   "name": "python3"
  },
  "language_info": {
   "codemirror_mode": {
    "name": "ipython",
    "version": 3
   },
   "file_extension": ".py",
   "mimetype": "text/x-python",
   "name": "python",
   "nbconvert_exporter": "python",
   "pygments_lexer": "ipython3",
   "version": "3.7.12"
  }
 },
 "nbformat": 4,
 "nbformat_minor": 5
}
